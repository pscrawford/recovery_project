{
 "cells": [
  {
   "cell_type": "markdown",
   "metadata": {},
   "source": [
    "# Options for encoding ordinal response\n",
    "\n",
    "- Naive categorical encoding (ignore order)\n",
    "- Integer encoding (really regression not classification)\n",
    "- [Ordinal crossentropy loss for Keras](https://github.com/JHart96/keras_ordinal_categorical_crossentropy)\n",
    "- [Ordinal regression for TF](https://github.com/gspell/TF-OrdinalRegression)\n",
    "- \"Cumulative\" encoding [Cheng et al.]\n",
    "- Split into K-1 binary classification problems [Frank and Hall] \n",
    "     - not sure if it's efficient with neural nets\n",
    "     - Cheng et al.'s encoding does this in some sense, within a single network"
   ]
  },
  {
   "cell_type": "code",
   "execution_count": 1,
   "metadata": {},
   "outputs": [
    {
     "name": "stderr",
     "output_type": "stream",
     "text": [
      "Using TensorFlow backend.\n"
     ]
    }
   ],
   "source": [
    "# set up\n",
    "# if installed, keras uses tf as backend\n",
    "import keras\n",
    "import numpy as np\n",
    "import pandas as pd\n",
    "\n",
    "from keras.models import Sequential\n",
    "from keras.layers import Dense, Dropout, Activation\n",
    "from keras.optimizers import SGD\n",
    "\n",
    "# Import ordinal crossentropy loss function\n",
    "import sys\n",
    "sys.path.insert(0, \"./keras_ordinal_categorical_crossentropy\")\n",
    "import ordinal_categorical_crossentropy as OCC"
   ]
  },
  {
   "cell_type": "markdown",
   "metadata": {},
   "source": [
    "Example from Keras docs\n",
    "https://keras.io/getting-started/sequential-model-guide/#examples"
   ]
  },
  {
   "cell_type": "code",
   "execution_count": 2,
   "metadata": {
    "collapsed": true
   },
   "outputs": [],
   "source": [
    "# Generate dummy data\n",
    "np.random.seed(123)\n",
    "x_train = np.random.random((1000, 20))\n",
    "y_int_train = np.random.randint(10, size=(1000, 1))\n",
    "y_train = keras.utils.to_categorical(y_int_train, num_classes=10)\n",
    "x_test = np.random.random((100, 20))\n",
    "y_int_test = np.random.randint(10, size=(100, 1))\n",
    "y_test = keras.utils.to_categorical(y_int_test, num_classes=10)\n",
    "\n",
    "# define classification model\n",
    "model = Sequential()\n",
    "# Dense(64) is a fully-connected layer with 64 hidden units.\n",
    "# in the first layer, you must specify the expected input data shape:\n",
    "# here, 20-dimensional vectors.\n",
    "model.add(Dense(64, activation='relu', input_dim=20))\n",
    "model.add(Dropout(0.5))\n",
    "model.add(Dense(64, activation='relu'))\n",
    "model.add(Dropout(0.5))\n",
    "model.add(Dense(10, activation='softmax'))\n",
    "\n",
    "# set SGD as optimizer\n",
    "sgd = SGD(lr=0.01, decay=1e-6, momentum=0.9, nesterov=True)"
   ]
  },
  {
   "cell_type": "code",
   "execution_count": 3,
   "metadata": {},
   "outputs": [
    {
     "name": "stdout",
     "output_type": "stream",
     "text": [
      "Epoch 1/20\n",
      "1000/1000 [==============================] - 1s 762us/step - loss: 2.4149 - accuracy: 0.1010\n",
      "Epoch 2/20\n",
      "1000/1000 [==============================] - 0s 53us/step - loss: 2.3687 - accuracy: 0.1030\n",
      "Epoch 3/20\n",
      "1000/1000 [==============================] - 0s 50us/step - loss: 2.3393 - accuracy: 0.1040\n",
      "Epoch 4/20\n",
      "1000/1000 [==============================] - 0s 51us/step - loss: 2.3187 - accuracy: 0.1180\n",
      "Epoch 5/20\n",
      "1000/1000 [==============================] - 0s 49us/step - loss: 2.3116 - accuracy: 0.1230\n",
      "Epoch 6/20\n",
      "1000/1000 [==============================] - 0s 49us/step - loss: 2.3159 - accuracy: 0.0990\n",
      "Epoch 7/20\n",
      "1000/1000 [==============================] - 0s 48us/step - loss: 2.3176 - accuracy: 0.0990\n",
      "Epoch 8/20\n",
      "1000/1000 [==============================] - 0s 49us/step - loss: 2.3134 - accuracy: 0.1030\n",
      "Epoch 9/20\n",
      "1000/1000 [==============================] - 0s 52us/step - loss: 2.3104 - accuracy: 0.1010\n",
      "Epoch 10/20\n",
      "1000/1000 [==============================] - 0s 63us/step - loss: 2.3052 - accuracy: 0.1100\n",
      "Epoch 11/20\n",
      "1000/1000 [==============================] - 0s 58us/step - loss: 2.3030 - accuracy: 0.1110\n",
      "Epoch 12/20\n",
      "1000/1000 [==============================] - 0s 55us/step - loss: 2.3009 - accuracy: 0.1240\n",
      "Epoch 13/20\n",
      "1000/1000 [==============================] - 0s 55us/step - loss: 2.2998 - accuracy: 0.1120\n",
      "Epoch 14/20\n",
      "1000/1000 [==============================] - 0s 50us/step - loss: 2.3020 - accuracy: 0.1170\n",
      "Epoch 15/20\n",
      "1000/1000 [==============================] - 0s 53us/step - loss: 2.3011 - accuracy: 0.1170\n",
      "Epoch 16/20\n",
      "1000/1000 [==============================] - 0s 57us/step - loss: 2.2981 - accuracy: 0.1140\n",
      "Epoch 17/20\n",
      "1000/1000 [==============================] - 0s 215us/step - loss: 2.3039 - accuracy: 0.0970\n",
      "Epoch 18/20\n",
      "1000/1000 [==============================] - 0s 51us/step - loss: 2.3056 - accuracy: 0.1150\n",
      "Epoch 19/20\n",
      "1000/1000 [==============================] - 0s 48us/step - loss: 2.3020 - accuracy: 0.1070\n",
      "Epoch 20/20\n",
      "1000/1000 [==============================] - 0s 49us/step - loss: 2.2954 - accuracy: 0.1270\n",
      "100/100 [==============================] - 0s 2ms/step\n"
     ]
    },
    {
     "data": {
      "text/plain": [
       "[2.2891061305999756, 0.11999999731779099]"
      ]
     },
     "execution_count": 3,
     "metadata": {},
     "output_type": "execute_result"
    }
   ],
   "source": [
    "# naive multi-class classification\n",
    "model.compile(loss='categorical_crossentropy',\n",
    "              optimizer=sgd,\n",
    "              metrics=['accuracy'])\n",
    "\n",
    "model.fit(x_train, y_train, epochs=20, batch_size=128)\n",
    "score = model.evaluate(x_test, y_test, batch_size=128)\n",
    "score"
   ]
  },
  {
   "cell_type": "code",
   "execution_count": 4,
   "metadata": {},
   "outputs": [
    {
     "name": "stdout",
     "output_type": "stream",
     "text": [
      "Epoch 1/20\n",
      "1000/1000 [==============================] - 1s 893us/step - loss: 3.0800 - accuracy: 0.1240\n",
      "Epoch 2/20\n",
      "1000/1000 [==============================] - 0s 53us/step - loss: 3.1003 - accuracy: 0.1140\n",
      "Epoch 3/20\n",
      "1000/1000 [==============================] - 0s 64us/step - loss: 3.1182 - accuracy: 0.1190\n",
      "Epoch 4/20\n",
      "1000/1000 [==============================] - 0s 72us/step - loss: 3.1640 - accuracy: 0.1070\n",
      "Epoch 5/20\n",
      "1000/1000 [==============================] - 0s 65us/step - loss: 3.1477 - accuracy: 0.1220\n",
      "Epoch 6/20\n",
      "1000/1000 [==============================] - 0s 67us/step - loss: 3.1741 - accuracy: 0.1250\n",
      "Epoch 7/20\n",
      "1000/1000 [==============================] - 0s 220us/step - loss: 3.2084 - accuracy: 0.1090\n",
      "Epoch 8/20\n",
      "1000/1000 [==============================] - 0s 52us/step - loss: 3.1725 - accuracy: 0.1170\n",
      "Epoch 9/20\n",
      "1000/1000 [==============================] - 0s 51us/step - loss: 3.1476 - accuracy: 0.1280\n",
      "Epoch 10/20\n",
      "1000/1000 [==============================] - 0s 52us/step - loss: 3.2115 - accuracy: 0.1120\n",
      "Epoch 11/20\n",
      "1000/1000 [==============================] - 0s 57us/step - loss: 3.2059 - accuracy: 0.0990\n",
      "Epoch 12/20\n",
      "1000/1000 [==============================] - 0s 65us/step - loss: 3.1927 - accuracy: 0.1200\n",
      "Epoch 13/20\n",
      "1000/1000 [==============================] - 0s 58us/step - loss: 3.1936 - accuracy: 0.1120\n",
      "Epoch 14/20\n",
      "1000/1000 [==============================] - 0s 61us/step - loss: 3.1927 - accuracy: 0.1270\n",
      "Epoch 15/20\n",
      "1000/1000 [==============================] - 0s 79us/step - loss: 3.1949 - accuracy: 0.1360\n",
      "Epoch 16/20\n",
      "1000/1000 [==============================] - 0s 71us/step - loss: 3.1968 - accuracy: 0.1110\n",
      "Epoch 17/20\n",
      "1000/1000 [==============================] - 0s 74us/step - loss: 3.1973 - accuracy: 0.1230\n",
      "Epoch 18/20\n",
      "1000/1000 [==============================] - 0s 74us/step - loss: 3.1935 - accuracy: 0.1160\n",
      "Epoch 19/20\n",
      "1000/1000 [==============================] - 0s 72us/step - loss: 3.1839 - accuracy: 0.1320\n",
      "Epoch 20/20\n",
      "1000/1000 [==============================] - 0s 70us/step - loss: 3.2107 - accuracy: 0.1010\n",
      "100/100 [==============================] - 0s 2ms/step\n"
     ]
    },
    {
     "data": {
      "text/plain": [
       "[3.2259721755981445, 0.14000000059604645]"
      ]
     },
     "execution_count": 4,
     "metadata": {},
     "output_type": "execute_result"
    }
   ],
   "source": [
    "# Classification with ordinal crossentropy loss\n",
    "model.compile(loss=OCC.loss,\n",
    "              optimizer=sgd,\n",
    "              metrics=['accuracy'])\n",
    "\n",
    "model.fit(x_train, y_train, epochs=20, batch_size=128)\n",
    "score = model.evaluate(x_test, y_test, batch_size=128)\n",
    "score"
   ]
  },
  {
   "cell_type": "code",
   "execution_count": 5,
   "metadata": {},
   "outputs": [
    {
     "name": "stdout",
     "output_type": "stream",
     "text": [
      "Epoch 1/20\n",
      "1000/1000 [==============================] - 1s 704us/step - loss: 15.0870 - accuracy: 0.0920 - mse: 15.0870\n",
      "Epoch 2/20\n",
      "1000/1000 [==============================] - 0s 53us/step - loss: 9.4177 - accuracy: 0.0930 - mse: 9.4177\n",
      "Epoch 3/20\n",
      "1000/1000 [==============================] - 0s 57us/step - loss: 9.2963 - accuracy: 0.0930 - mse: 9.2963\n",
      "Epoch 4/20\n",
      "1000/1000 [==============================] - 0s 62us/step - loss: 8.7801 - accuracy: 0.0950 - mse: 8.7801\n",
      "Epoch 5/20\n",
      "1000/1000 [==============================] - 0s 63us/step - loss: 8.6351 - accuracy: 0.0810 - mse: 8.6351\n",
      "Epoch 6/20\n",
      "1000/1000 [==============================] - 0s 68us/step - loss: 8.4900 - accuracy: 0.0840 - mse: 8.4900\n",
      "Epoch 7/20\n",
      "1000/1000 [==============================] - 0s 59us/step - loss: 8.4289 - accuracy: 0.0830 - mse: 8.4289\n",
      "Epoch 8/20\n",
      "1000/1000 [==============================] - 0s 59us/step - loss: 8.3415 - accuracy: 0.1000 - mse: 8.3415\n",
      "Epoch 9/20\n",
      "1000/1000 [==============================] - 0s 70us/step - loss: 8.3920 - accuracy: 0.0800 - mse: 8.3920\n",
      "Epoch 10/20\n",
      "1000/1000 [==============================] - 0s 63us/step - loss: 8.4501 - accuracy: 0.0970 - mse: 8.4501\n",
      "Epoch 11/20\n",
      "1000/1000 [==============================] - 0s 215us/step - loss: 8.2149 - accuracy: 0.0810 - mse: 8.2149\n",
      "Epoch 12/20\n",
      "1000/1000 [==============================] - 0s 49us/step - loss: 8.3476 - accuracy: 0.0810 - mse: 8.3476\n",
      "Epoch 13/20\n",
      "1000/1000 [==============================] - 0s 52us/step - loss: 8.3448 - accuracy: 0.0790 - mse: 8.3448\n",
      "Epoch 14/20\n",
      "1000/1000 [==============================] - 0s 61us/step - loss: 8.2726 - accuracy: 0.0830 - mse: 8.2726\n",
      "Epoch 15/20\n",
      "1000/1000 [==============================] - 0s 53us/step - loss: 8.3005 - accuracy: 0.0880 - mse: 8.3005\n",
      "Epoch 16/20\n",
      "1000/1000 [==============================] - 0s 51us/step - loss: 8.1785 - accuracy: 0.0920 - mse: 8.1785\n",
      "Epoch 17/20\n",
      "1000/1000 [==============================] - 0s 50us/step - loss: 8.2156 - accuracy: 0.0860 - mse: 8.2156\n",
      "Epoch 18/20\n",
      "1000/1000 [==============================] - 0s 53us/step - loss: 8.2520 - accuracy: 0.0980 - mse: 8.2520\n",
      "Epoch 19/20\n",
      "1000/1000 [==============================] - 0s 49us/step - loss: 8.2519 - accuracy: 0.0850 - mse: 8.2519\n",
      "Epoch 20/20\n",
      "1000/1000 [==============================] - 0s 46us/step - loss: 8.2482 - accuracy: 0.0850 - mse: 8.2482\n",
      "100/100 [==============================] - 0s 2ms/step\n"
     ]
    },
    {
     "data": {
      "text/plain": [
       "[9.062883377075195, 0.09000000357627869, 9.062883377075195]"
      ]
     },
     "execution_count": 5,
     "metadata": {},
     "output_type": "execute_result"
    }
   ],
   "source": [
    "# Integer encoding\n",
    "model_int = Sequential()\n",
    "model_int.add(Dense(64, activation='relu', input_dim=20))\n",
    "model_int.add(Dropout(0.5))\n",
    "model_int.add(Dense(64, activation='relu'))\n",
    "model_int.add(Dropout(0.5))\n",
    "model_int.add(Dense(1, activation='relu'))\n",
    "\n",
    "model_int.compile(\n",
    "    ## or try sparse_categorical_crossentropy for integer targets\n",
    "    loss='mean_squared_error',\n",
    "    optimizer=sgd,\n",
    "    metrics=['accuracy', 'mse'])\n",
    "\n",
    "model_int.fit(x_train, y_int_train, epochs=20, batch_size=128)\n",
    "score = model_int.evaluate(x_test, y_int_test, batch_size=128)\n",
    "score"
   ]
  },
  {
   "cell_type": "code",
   "execution_count": 6,
   "metadata": {},
   "outputs": [
    {
     "name": "stdout",
     "output_type": "stream",
     "text": [
      "Epoch 1/20\n",
      "1000/1000 [==============================] - 1s 899us/step - loss: 8.2245 - accuracy: 0.0970\n",
      "Epoch 2/20\n",
      "1000/1000 [==============================] - 0s 52us/step - loss: 4.2371 - accuracy: 0.0830\n",
      "Epoch 3/20\n",
      "1000/1000 [==============================] - 0s 54us/step - loss: 2.5750 - accuracy: 0.1070\n",
      "Epoch 4/20\n",
      "1000/1000 [==============================] - 0s 52us/step - loss: 2.3952 - accuracy: 0.1110\n",
      "Epoch 5/20\n",
      "1000/1000 [==============================] - 0s 51us/step - loss: 2.3369 - accuracy: 0.1040\n",
      "Epoch 6/20\n",
      "1000/1000 [==============================] - 0s 61us/step - loss: 2.3033 - accuracy: 0.1000\n",
      "Epoch 7/20\n",
      "1000/1000 [==============================] - 0s 51us/step - loss: 2.3200 - accuracy: 0.1010\n",
      "Epoch 8/20\n",
      "1000/1000 [==============================] - 0s 52us/step - loss: 2.3066 - accuracy: 0.1000\n",
      "Epoch 9/20\n",
      "1000/1000 [==============================] - 0s 52us/step - loss: 2.3191 - accuracy: 0.1060\n",
      "Epoch 10/20\n",
      "1000/1000 [==============================] - 0s 51us/step - loss: 2.3006 - accuracy: 0.1060\n",
      "Epoch 11/20\n",
      "1000/1000 [==============================] - 0s 52us/step - loss: 2.3040 - accuracy: 0.1020\n",
      "Epoch 12/20\n",
      "1000/1000 [==============================] - 0s 52us/step - loss: 2.3179 - accuracy: 0.1080\n",
      "Epoch 13/20\n",
      "1000/1000 [==============================] - 0s 54us/step - loss: 2.3185 - accuracy: 0.1000\n",
      "Epoch 14/20\n",
      "1000/1000 [==============================] - 0s 56us/step - loss: 2.3012 - accuracy: 0.0960\n",
      "Epoch 15/20\n",
      "1000/1000 [==============================] - 0s 58us/step - loss: 2.3018 - accuracy: 0.1000\n",
      "Epoch 16/20\n",
      "1000/1000 [==============================] - 0s 215us/step - loss: 2.3186 - accuracy: 0.1030\n",
      "Epoch 17/20\n",
      "1000/1000 [==============================] - 0s 57us/step - loss: 2.3190 - accuracy: 0.1020\n",
      "Epoch 18/20\n",
      "1000/1000 [==============================] - 0s 61us/step - loss: 2.3028 - accuracy: 0.0990\n",
      "Epoch 19/20\n",
      "1000/1000 [==============================] - 0s 62us/step - loss: 2.3191 - accuracy: 0.1050\n",
      "Epoch 20/20\n",
      "1000/1000 [==============================] - 0s 55us/step - loss: 2.3196 - accuracy: 0.1050\n",
      "100/100 [==============================] - 0s 2ms/step\n"
     ]
    },
    {
     "data": {
      "text/plain": [
       "[2.3025853633880615, 0.14000000059604645]"
      ]
     },
     "execution_count": 6,
     "metadata": {},
     "output_type": "execute_result"
    }
   ],
   "source": [
    "# let's try it again but with sparse cross-entropy loss\n",
    "# Integer encoding\n",
    "model_sparse = Sequential()\n",
    "model_sparse.add(Dense(64, activation='relu', input_dim=20))\n",
    "model_sparse.add(Dropout(0.5))\n",
    "model_sparse.add(Dense(64, activation='relu'))\n",
    "model_sparse.add(Dropout(0.5))\n",
    "model_sparse.add(Dense(10, activation='relu'))\n",
    "\n",
    "model_sparse.compile(\n",
    "    loss='sparse_categorical_crossentropy',\n",
    "    optimizer=sgd,\n",
    "    metrics=['accuracy'])\n",
    "\n",
    "model_sparse.fit(x_train, y_int_train, epochs=20, batch_size=128)\n",
    "score = model_sparse.evaluate(x_test, y_int_test, batch_size=128)\n",
    "score"
   ]
  },
  {
   "cell_type": "markdown",
   "metadata": {},
   "source": [
    "Remarks:\n",
    "\n",
    "- Accuracy is pretty low across all three, but (sparse) integer encoding seems to work well\n",
    "- Could be that architecture (ie, layers) and optimizer need tuning\n",
    "- Oh yeah also because features are uncorrelated with response (duh!)\n",
    "\n",
    "[TODO] Last three options..."
   ]
  },
  {
   "cell_type": "markdown",
   "metadata": {},
   "source": [
    "### Takeaways\n",
    "\n",
    "- Sparse categorical cross-entropy performs as well as categorical cross-entropy\n",
    "- Ordinal cross-entropy performs worse than categorical cross-entropy!\n",
    "- Integer encoding performs the worst"
   ]
  },
  {
   "cell_type": "markdown",
   "metadata": {},
   "source": [
    "## Simulated ordinal response\n",
    "\n",
    "Let's generate toy data for which we actually know the \n",
    "data generating process (DGP). This will provide a better\n",
    "benchmark for the different approaches."
   ]
  },
  {
   "cell_type": "code",
   "execution_count": 104,
   "metadata": {},
   "outputs": [],
   "source": [
    "# 1. set parameters\n",
    "K = 3 # response categories\n",
    "N = 10000 # number of examples\n",
    "P = 3 # number of features\n",
    "# thresholds:\n",
    "mu0 = 0\n",
    "mu1 = 3.14\n",
    "# set DGP parameters\n",
    "b0 = 1\n",
    "b1 = 2\n",
    "b2 = -2\n",
    "b3 = 1"
   ]
  },
  {
   "cell_type": "code",
   "execution_count": 105,
   "metadata": {},
   "outputs": [],
   "source": [
    "# 2. generate features\n",
    "# TODO: auto-generate x_mean and x_cov\n",
    "x_mean = (1, 2, 0.5) \n",
    "x_cov = [[1, 0, 0], [0, 1, 0], [0, 0, 1]]\n",
    "X = np.random.multivariate_normal(x_mean, x_cov, N) # dim: NxK\n",
    "# X.shape"
   ]
  },
  {
   "cell_type": "code",
   "execution_count": 106,
   "metadata": {},
   "outputs": [],
   "source": [
    "# 3. generate normal error\n",
    "u = np.random.normal(size=(N,1)) # dim: Nx1\n",
    "# u.shape"
   ]
  },
  {
   "cell_type": "code",
   "execution_count": 107,
   "metadata": {},
   "outputs": [],
   "source": [
    "# 4. generate latent response\n",
    "B = np.array([[b1], [b2], [b3]]) # dim: Kx1\n",
    "y_latent = b0 + X.dot(B) + u # dim: Nx1\n",
    "# y_latent.shape"
   ]
  },
  {
   "cell_type": "code",
   "execution_count": 108,
   "metadata": {},
   "outputs": [],
   "source": [
    "# 5. generate ordinal response\n",
    "y = np.digitize(y_latent, [mu0, mu1], right=1)\n",
    "# y.shape"
   ]
  },
  {
   "cell_type": "code",
   "execution_count": 110,
   "metadata": {},
   "outputs": [],
   "source": [
    "# create train / test split\n",
    "from sklearn import model_selection\n",
    "train_x, test_x, train_y, test_y = model_selection.train_test_split(X,y,test_size = 0.1, random_state = 0)\n",
    "\n",
    "# encode response as categorical\n",
    "train_y_cat = keras.utils.to_categorical(train_y, num_classes=K)\n",
    "test_y_cat = keras.utils.to_categorical(test_y, num_classes=K)"
   ]
  },
  {
   "cell_type": "code",
   "execution_count": 113,
   "metadata": {},
   "outputs": [
    {
     "name": "stdout",
     "output_type": "stream",
     "text": [
      "Epoch 1/20\n",
      "9000/9000 [==============================] - 1s 118us/step - loss: 0.8180 - accuracy: 0.6058\n",
      "Epoch 2/20\n",
      "9000/9000 [==============================] - 0s 42us/step - loss: 0.5611 - accuracy: 0.7544\n",
      "Epoch 3/20\n",
      "9000/9000 [==============================] - 0s 45us/step - loss: 0.4807 - accuracy: 0.8017\n",
      "Epoch 4/20\n",
      "9000/9000 [==============================] - 0s 47us/step - loss: 0.4489 - accuracy: 0.8090\n",
      "Epoch 5/20\n",
      "9000/9000 [==============================] - 1s 61us/step - loss: 0.4370 - accuracy: 0.8079\n",
      "Epoch 6/20\n",
      "9000/9000 [==============================] - 0s 42us/step - loss: 0.4258 - accuracy: 0.8173\n",
      "Epoch 7/20\n",
      "9000/9000 [==============================] - 0s 47us/step - loss: 0.4098 - accuracy: 0.8198\n",
      "Epoch 8/20\n",
      "9000/9000 [==============================] - 0s 43us/step - loss: 0.4076 - accuracy: 0.8232\n",
      "Epoch 9/20\n",
      "9000/9000 [==============================] - 1s 58us/step - loss: 0.4050 - accuracy: 0.8221\n",
      "Epoch 10/20\n",
      "9000/9000 [==============================] - 0s 42us/step - loss: 0.3914 - accuracy: 0.8276\n",
      "Epoch 11/20\n",
      "9000/9000 [==============================] - 0s 41us/step - loss: 0.3968 - accuracy: 0.8262\n",
      "Epoch 12/20\n",
      "9000/9000 [==============================] - 0s 43us/step - loss: 0.3954 - accuracy: 0.8273\n",
      "Epoch 13/20\n",
      "9000/9000 [==============================] - 1s 58us/step - loss: 0.3906 - accuracy: 0.8310\n",
      "Epoch 14/20\n",
      "9000/9000 [==============================] - 0s 49us/step - loss: 0.3877 - accuracy: 0.8279\n",
      "Epoch 15/20\n",
      "9000/9000 [==============================] - 0s 42us/step - loss: 0.3929 - accuracy: 0.8286\n",
      "Epoch 16/20\n",
      "9000/9000 [==============================] - 0s 42us/step - loss: 0.3896 - accuracy: 0.8309\n",
      "Epoch 17/20\n",
      "9000/9000 [==============================] - 1s 59us/step - loss: 0.3889 - accuracy: 0.8309\n",
      "Epoch 18/20\n",
      "9000/9000 [==============================] - 0s 42us/step - loss: 0.3854 - accuracy: 0.8292\n",
      "Epoch 19/20\n",
      "9000/9000 [==============================] - 0s 50us/step - loss: 0.3826 - accuracy: 0.8308\n",
      "Epoch 20/20\n",
      "9000/9000 [==============================] - 0s 43us/step - loss: 0.3811 - accuracy: 0.8353\n",
      "1000/1000 [==============================] - 0s 269us/step\n"
     ]
    },
    {
     "data": {
      "text/plain": [
       "[0.3165572345256805, 0.8679999709129333]"
      ]
     },
     "execution_count": 113,
     "metadata": {},
     "output_type": "execute_result"
    }
   ],
   "source": [
    "# cross-entropy loss\n",
    "model = Sequential()\n",
    "# Dense(64) is a fully-connected layer with 64 hidden units.\n",
    "# in the first layer, you must specify the expected input data shape:\n",
    "# here, 20-dimensional vectors.\n",
    "model.add(Dense(64, activation='relu', input_dim=P))\n",
    "model.add(Dropout(0.5))\n",
    "model.add(Dense(64, activation='relu'))\n",
    "model.add(Dropout(0.5))\n",
    "model.add(Dense(K, activation='softmax'))\n",
    "model.compile(loss='categorical_crossentropy',\n",
    "              optimizer=sgd,\n",
    "              metrics=['accuracy'])\n",
    "\n",
    "model.fit(train_x, train_y_cat, epochs=20, batch_size=128)\n",
    "score = model.evaluate(test_x, test_y_cat, batch_size=128)\n",
    "score"
   ]
  },
  {
   "cell_type": "code",
   "execution_count": 114,
   "metadata": {},
   "outputs": [
    {
     "name": "stdout",
     "output_type": "stream",
     "text": [
      "Epoch 1/20\n",
      "9000/9000 [==============================] - 1s 135us/step - loss: 0.5016 - accuracy: 0.8273\n",
      "Epoch 2/20\n",
      "9000/9000 [==============================] - 1s 62us/step - loss: 0.4937 - accuracy: 0.8311\n",
      "Epoch 3/20\n",
      "9000/9000 [==============================] - 0s 46us/step - loss: 0.4909 - accuracy: 0.8352\n",
      "Epoch 4/20\n",
      "9000/9000 [==============================] - 0s 45us/step - loss: 0.4907 - accuracy: 0.8309\n",
      "Epoch 5/20\n",
      "9000/9000 [==============================] - 0s 45us/step - loss: 0.4885 - accuracy: 0.8318\n",
      "Epoch 6/20\n",
      "9000/9000 [==============================] - 1s 62us/step - loss: 0.4882 - accuracy: 0.8352\n",
      "Epoch 7/20\n",
      "9000/9000 [==============================] - 0s 45us/step - loss: 0.4934 - accuracy: 0.8347\n",
      "Epoch 8/20\n",
      "9000/9000 [==============================] - 0s 45us/step - loss: 0.4856 - accuracy: 0.8348\n",
      "Epoch 9/20\n",
      "9000/9000 [==============================] - 0s 47us/step - loss: 0.4944 - accuracy: 0.8318\n",
      "Epoch 10/20\n",
      "9000/9000 [==============================] - 1s 62us/step - loss: 0.4863 - accuracy: 0.8347\n",
      "Epoch 11/20\n",
      "9000/9000 [==============================] - 0s 45us/step - loss: 0.4894 - accuracy: 0.8304\n",
      "Epoch 12/20\n",
      "9000/9000 [==============================] - 0s 47us/step - loss: 0.4894 - accuracy: 0.8320\n",
      "Epoch 13/20\n",
      "9000/9000 [==============================] - 0s 46us/step - loss: 0.4872 - accuracy: 0.8317\n",
      "Epoch 14/20\n",
      "9000/9000 [==============================] - 1s 62us/step - loss: 0.4887 - accuracy: 0.8340\n",
      "Epoch 15/20\n",
      "9000/9000 [==============================] - 0s 46us/step - loss: 0.4847 - accuracy: 0.8356\n",
      "Epoch 16/20\n",
      "9000/9000 [==============================] - 1s 57us/step - loss: 0.4856 - accuracy: 0.8333\n",
      "Epoch 17/20\n",
      "9000/9000 [==============================] - 0s 53us/step - loss: 0.4900 - accuracy: 0.8329\n",
      "Epoch 18/20\n",
      "9000/9000 [==============================] - 1s 63us/step - loss: 0.4859 - accuracy: 0.8288\n",
      "Epoch 19/20\n",
      "9000/9000 [==============================] - 0s 53us/step - loss: 0.4827 - accuracy: 0.8362\n",
      "Epoch 20/20\n",
      "9000/9000 [==============================] - 1s 59us/step - loss: 0.4864 - accuracy: 0.8350\n",
      "1000/1000 [==============================] - 0s 233us/step\n"
     ]
    },
    {
     "data": {
      "text/plain": [
       "[0.41264120388031006, 0.8679999709129333]"
      ]
     },
     "execution_count": 114,
     "metadata": {},
     "output_type": "execute_result"
    }
   ],
   "source": [
    "# ordinal crossentropy loss\n",
    "model.compile(loss=OCC.loss,\n",
    "              optimizer=sgd,\n",
    "              metrics=['accuracy'])\n",
    "\n",
    "model.fit(train_x, train_y_cat, epochs=20, batch_size=128)\n",
    "score = model.evaluate(test_x, test_y_cat, batch_size=128)\n",
    "score"
   ]
  },
  {
   "cell_type": "code",
   "execution_count": 115,
   "metadata": {},
   "outputs": [
    {
     "name": "stdout",
     "output_type": "stream",
     "text": [
      "Epoch 1/20\n",
      "9000/9000 [==============================] - 1s 111us/step - loss: 0.3652 - accuracy: 0.6689 - mse: 0.3652\n",
      "Epoch 2/20\n",
      "9000/9000 [==============================] - 1s 58us/step - loss: 0.1869 - accuracy: 0.7739 - mse: 0.1869\n",
      "Epoch 3/20\n",
      "9000/9000 [==============================] - 0s 42us/step - loss: 0.1685 - accuracy: 0.7849 - mse: 0.1685\n",
      "Epoch 4/20\n",
      "9000/9000 [==============================] - 0s 51us/step - loss: 0.1566 - accuracy: 0.7936 - mse: 0.1566\n",
      "Epoch 5/20\n",
      "9000/9000 [==============================] - 0s 49us/step - loss: 0.1475 - accuracy: 0.8021 - mse: 0.1475\n",
      "Epoch 6/20\n",
      "9000/9000 [==============================] - 1s 64us/step - loss: 0.1469 - accuracy: 0.8042 - mse: 0.1469\n",
      "Epoch 7/20\n",
      "9000/9000 [==============================] - 0s 43us/step - loss: 0.1427 - accuracy: 0.8098 - mse: 0.1427\n",
      "Epoch 8/20\n",
      "9000/9000 [==============================] - 0s 46us/step - loss: 0.1430 - accuracy: 0.8068 - mse: 0.1430\n",
      "Epoch 9/20\n",
      "9000/9000 [==============================] - 0s 43us/step - loss: 0.1397 - accuracy: 0.8093 - mse: 0.1397\n",
      "Epoch 10/20\n",
      "9000/9000 [==============================] - 1s 64us/step - loss: 0.1383 - accuracy: 0.8123 - mse: 0.1383\n",
      "Epoch 11/20\n",
      "9000/9000 [==============================] - 0s 46us/step - loss: 0.1383 - accuracy: 0.8049 - mse: 0.1383\n",
      "Epoch 12/20\n",
      "9000/9000 [==============================] - 0s 44us/step - loss: 0.1340 - accuracy: 0.8127 - mse: 0.1340\n",
      "Epoch 13/20\n",
      "9000/9000 [==============================] - 0s 52us/step - loss: 0.1367 - accuracy: 0.8108 - mse: 0.1367\n",
      "Epoch 14/20\n",
      "9000/9000 [==============================] - 1s 61us/step - loss: 0.1350 - accuracy: 0.8108 - mse: 0.1350\n",
      "Epoch 15/20\n",
      "9000/9000 [==============================] - 0s 47us/step - loss: 0.1354 - accuracy: 0.8114 - mse: 0.1354\n",
      "Epoch 16/20\n",
      "9000/9000 [==============================] - 0s 49us/step - loss: 0.1330 - accuracy: 0.8150 - mse: 0.1330\n",
      "Epoch 17/20\n",
      "9000/9000 [==============================] - 0s 48us/step - loss: 0.1343 - accuracy: 0.8162 - mse: 0.1343\n",
      "Epoch 18/20\n",
      "9000/9000 [==============================] - 1s 60us/step - loss: 0.1329 - accuracy: 0.8127 - mse: 0.1329\n",
      "Epoch 19/20\n",
      "9000/9000 [==============================] - 0s 44us/step - loss: 0.1336 - accuracy: 0.8150 - mse: 0.1336\n",
      "Epoch 20/20\n",
      "9000/9000 [==============================] - 0s 44us/step - loss: 0.1346 - accuracy: 0.8089 - mse: 0.1346\n",
      "1000/1000 [==============================] - 0s 210us/step\n"
     ]
    },
    {
     "data": {
      "text/plain": [
       "[0.11300325906276702, 0.843999981880188, 0.11300323903560638]"
      ]
     },
     "execution_count": 115,
     "metadata": {},
     "output_type": "execute_result"
    }
   ],
   "source": [
    "# integer encoding\n",
    "model_int = Sequential()\n",
    "model_int.add(Dense(64, activation='relu', input_dim=P))\n",
    "model_int.add(Dropout(0.5))\n",
    "model_int.add(Dense(64, activation='relu'))\n",
    "model_int.add(Dropout(0.5))\n",
    "model_int.add(Dense(1, activation='relu'))\n",
    "\n",
    "model_int.compile(\n",
    "    ## or try sparse_categorical_crossentropy for integer targets\n",
    "    loss='mean_squared_error',\n",
    "    optimizer=sgd,\n",
    "    metrics=['accuracy', 'mse'])\n",
    "\n",
    "model_int.fit(train_x, train_y, epochs=20, batch_size=128)\n",
    "score = model_int.evaluate(test_x, test_y, batch_size=128)\n",
    "score"
   ]
  },
  {
   "cell_type": "code",
   "execution_count": 116,
   "metadata": {},
   "outputs": [
    {
     "name": "stdout",
     "output_type": "stream",
     "text": [
      "Epoch 1/20\n",
      "9000/9000 [==============================] - 1s 116us/step - loss: 2.2852 - accuracy: 0.5666\n",
      "Epoch 2/20\n",
      "9000/9000 [==============================] - 0s 47us/step - loss: 2.0912 - accuracy: 0.5727\n",
      "Epoch 3/20\n",
      "9000/9000 [==============================] - 1s 62us/step - loss: 1.8268 - accuracy: 0.5726\n",
      "Epoch 4/20\n",
      "9000/9000 [==============================] - 0s 46us/step - loss: 2.9750 - accuracy: 0.5726\n",
      "Epoch 5/20\n",
      "9000/9000 [==============================] - 0s 45us/step - loss: 4.8086 - accuracy: 0.5726\n",
      "Epoch 6/20\n",
      "9000/9000 [==============================] - 0s 47us/step - loss: 4.8172 - accuracy: 0.5726\n",
      "Epoch 7/20\n",
      "9000/9000 [==============================] - 1s 63us/step - loss: 4.8882 - accuracy: 0.5726\n",
      "Epoch 8/20\n",
      "9000/9000 [==============================] - 0s 49us/step - loss: 5.0779 - accuracy: 0.5724\n",
      "Epoch 9/20\n",
      "9000/9000 [==============================] - 0s 46us/step - loss: 5.0345 - accuracy: 0.5726\n",
      "Epoch 10/20\n",
      "9000/9000 [==============================] - 0s 46us/step - loss: 5.0788 - accuracy: 0.5726\n",
      "Epoch 11/20\n",
      "9000/9000 [==============================] - 1s 62us/step - loss: 5.1395 - accuracy: 0.5724\n",
      "Epoch 12/20\n",
      "9000/9000 [==============================] - 0s 45us/step - loss: 4.7775 - accuracy: 0.5726\n",
      "Epoch 13/20\n",
      "9000/9000 [==============================] - 0s 46us/step - loss: 4.4562 - accuracy: 0.5726\n",
      "Epoch 14/20\n",
      "9000/9000 [==============================] - 0s 49us/step - loss: 4.8902 - accuracy: 0.5726\n",
      "Epoch 15/20\n",
      "9000/9000 [==============================] - 1s 64us/step - loss: 4.4987 - accuracy: 0.5726\n",
      "Epoch 16/20\n",
      "9000/9000 [==============================] - 0s 50us/step - loss: 3.2684 - accuracy: 0.5726\n",
      "Epoch 17/20\n",
      "9000/9000 [==============================] - 0s 47us/step - loss: 2.5176 - accuracy: 0.5724\n",
      "Epoch 18/20\n",
      "9000/9000 [==============================] - 0s 47us/step - loss: 2.2513 - accuracy: 0.5724\n",
      "Epoch 19/20\n",
      "9000/9000 [==============================] - 1s 65us/step - loss: 2.3594 - accuracy: 0.5726\n",
      "Epoch 20/20\n",
      "9000/9000 [==============================] - 0s 48us/step - loss: 2.3239 - accuracy: 0.5726\n",
      "1000/1000 [==============================] - 0s 233us/step\n"
     ]
    },
    {
     "data": {
      "text/plain": [
       "[1.098612057685852, 0.5649999976158142]"
      ]
     },
     "execution_count": 116,
     "metadata": {},
     "output_type": "execute_result"
    }
   ],
   "source": [
    "# sparse encoding\n",
    "model_sparse = Sequential()\n",
    "model_sparse.add(Dense(64, activation='relu', input_dim=P))\n",
    "model_sparse.add(Dropout(0.5))\n",
    "model_sparse.add(Dense(64, activation='relu'))\n",
    "model_sparse.add(Dropout(0.5))\n",
    "model_sparse.add(Dense(K, activation='relu'))\n",
    "\n",
    "model_sparse.compile(\n",
    "    loss='sparse_categorical_crossentropy',\n",
    "    optimizer=sgd,\n",
    "    metrics=['accuracy'])\n",
    "\n",
    "model_sparse.fit(train_x, train_y, epochs=20, batch_size=128)\n",
    "score = model_sparse.evaluate(test_x, test_y, batch_size=128)\n",
    "score"
   ]
  },
  {
   "cell_type": "markdown",
   "metadata": {},
   "source": [
    "## Observations\n",
    "\n",
    "- Sparse integer encoding is actually the worst!\n",
    "- Accuracy about the same for cross_entropy and ordinal_cross_entropy loss functions + categorical encoding\n",
    "\n",
    "This is still using "
   ]
  },
  {
   "cell_type": "code",
   "execution_count": null,
   "metadata": {
    "collapsed": true
   },
   "outputs": [],
   "source": []
  }
 ],
 "metadata": {
  "kernelspec": {
   "display_name": "tf",
   "language": "python",
   "name": "tf"
  },
  "language_info": {
   "codemirror_mode": {
    "name": "ipython",
    "version": 3
   },
   "file_extension": ".py",
   "mimetype": "text/x-python",
   "name": "python",
   "nbconvert_exporter": "python",
   "pygments_lexer": "ipython3",
   "version": "3.7.6"
  }
 },
 "nbformat": 4,
 "nbformat_minor": 2
}
