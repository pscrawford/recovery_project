{
 "cells": [
  {
   "cell_type": "markdown",
   "metadata": {},
   "source": [
    "Options for encoding ordinal response\n",
    "\n",
    "- Naive categorical encoding (ignore order)\n",
    "- Integer encoding (really regression not classification)\n",
    "- [Ordinal crossentropy loss for Keras](https://github.com/JHart96/keras_ordinal_categorical_crossentropy)\n",
    "- [Ordinal regression for TF](https://github.com/gspell/TF-OrdinalRegression)\n",
    "- \"Cumulative\" encoding [Cheng et al.]\n",
    "- Split into K-1 binary classification problems [Frank and Hall] \n",
    "      - not sure if it's efficient with neural nets\n",
    "      - Cheng et al.'s encoding does this in some sense, within a single network"
   ]
  },
  {
   "cell_type": "code",
   "execution_count": 1,
   "metadata": {},
   "outputs": [
    {
     "name": "stderr",
     "output_type": "stream",
     "text": [
      "Using TensorFlow backend.\n"
     ]
    }
   ],
   "source": [
    "# set up\n",
    "# if installed, keras uses tf as backend\n",
    "import keras\n",
    "import numpy as np\n",
    "import pandas as pd\n",
    "\n",
    "from keras.models import Sequential\n",
    "from keras.layers import Dense, Dropout, Activation\n",
    "from keras.optimizers import SGD\n",
    "\n",
    "# Import ordinal crossentropy loss function\n",
    "import sys\n",
    "sys.path.insert(0, \"./keras_ordinal_categorical_crossentropy\")\n",
    "import ordinal_categorical_crossentropy as OCC"
   ]
  },
  {
   "cell_type": "markdown",
   "metadata": {},
   "source": [
    "Example from Keras docs\n",
    "https://keras.io/getting-started/sequential-model-guide/#examples"
   ]
  },
  {
   "cell_type": "code",
   "execution_count": 2,
   "metadata": {},
   "outputs": [],
   "source": [
    "# Generate dummy data\n",
    "x_train = np.random.random((1000, 20))\n",
    "y_int_train = np.random.randint(10, size=(1000, 1))\n",
    "y_train = keras.utils.to_categorical(y_int_train, num_classes=10)\n",
    "x_test = np.random.random((100, 20))\n",
    "y_int_test = np.random.randint(10, size=(100, 1))\n",
    "y_test = keras.utils.to_categorical(y_int_test, num_classes=10)\n",
    "\n",
    "# define classification model\n",
    "model = Sequential()\n",
    "# Dense(64) is a fully-connected layer with 64 hidden units.\n",
    "# in the first layer, you must specify the expected input data shape:\n",
    "# here, 20-dimensional vectors.\n",
    "model.add(Dense(64, activation='relu', input_dim=20))\n",
    "model.add(Dropout(0.5))\n",
    "model.add(Dense(64, activation='relu'))\n",
    "model.add(Dropout(0.5))\n",
    "model.add(Dense(10, activation='softmax'))\n",
    "\n",
    "# set SGD as optimizer\n",
    "sgd = SGD(lr=0.01, decay=1e-6, momentum=0.9, nesterov=True)"
   ]
  },
  {
   "cell_type": "code",
   "execution_count": 3,
   "metadata": {},
   "outputs": [
    {
     "name": "stdout",
     "output_type": "stream",
     "text": [
      "Epoch 1/20\n",
      "1000/1000 [==============================] - 1s 688us/step - loss: 2.4004 - accuracy: 0.0990\n",
      "Epoch 2/20\n",
      "1000/1000 [==============================] - 0s 55us/step - loss: 2.3764 - accuracy: 0.0890\n",
      "Epoch 3/20\n",
      "1000/1000 [==============================] - 0s 238us/step - loss: 2.3475 - accuracy: 0.0900\n",
      "Epoch 4/20\n",
      "1000/1000 [==============================] - 0s 48us/step - loss: 2.3406 - accuracy: 0.1070\n",
      "Epoch 5/20\n",
      "1000/1000 [==============================] - 0s 50us/step - loss: 2.3230 - accuracy: 0.1000\n",
      "Epoch 6/20\n",
      "1000/1000 [==============================] - 0s 49us/step - loss: 2.3159 - accuracy: 0.1050\n",
      "Epoch 7/20\n",
      "1000/1000 [==============================] - 0s 49us/step - loss: 2.3195 - accuracy: 0.0970\n",
      "Epoch 8/20\n",
      "1000/1000 [==============================] - 0s 49us/step - loss: 2.3101 - accuracy: 0.0970\n",
      "Epoch 9/20\n",
      "1000/1000 [==============================] - 0s 51us/step - loss: 2.3103 - accuracy: 0.0860\n",
      "Epoch 10/20\n",
      "1000/1000 [==============================] - 0s 58us/step - loss: 2.2995 - accuracy: 0.1270\n",
      "Epoch 11/20\n",
      "1000/1000 [==============================] - 0s 55us/step - loss: 2.3083 - accuracy: 0.1200\n",
      "Epoch 12/20\n",
      "1000/1000 [==============================] - 0s 54us/step - loss: 2.3119 - accuracy: 0.1090\n",
      "Epoch 13/20\n",
      "1000/1000 [==============================] - 0s 48us/step - loss: 2.3032 - accuracy: 0.1210\n",
      "Epoch 14/20\n",
      "1000/1000 [==============================] - 0s 52us/step - loss: 2.3049 - accuracy: 0.1140\n",
      "Epoch 15/20\n",
      "1000/1000 [==============================] - 0s 49us/step - loss: 2.2995 - accuracy: 0.1110\n",
      "Epoch 16/20\n",
      "1000/1000 [==============================] - 0s 49us/step - loss: 2.2953 - accuracy: 0.1200\n",
      "Epoch 17/20\n",
      "1000/1000 [==============================] - 0s 53us/step - loss: 2.3023 - accuracy: 0.1070\n",
      "Epoch 18/20\n",
      "1000/1000 [==============================] - 0s 47us/step - loss: 2.2951 - accuracy: 0.1250\n",
      "Epoch 19/20\n",
      "1000/1000 [==============================] - 0s 48us/step - loss: 2.3025 - accuracy: 0.1210\n",
      "Epoch 20/20\n",
      "1000/1000 [==============================] - 0s 51us/step - loss: 2.2961 - accuracy: 0.1050\n",
      "100/100 [==============================] - 0s 3ms/step\n"
     ]
    },
    {
     "data": {
      "text/plain": [
       "[2.3121721744537354, 0.07000000029802322]"
      ]
     },
     "execution_count": 3,
     "metadata": {},
     "output_type": "execute_result"
    }
   ],
   "source": [
    "# naive multi-class classification\n",
    "model.compile(loss='categorical_crossentropy',\n",
    "              optimizer=sgd,\n",
    "              metrics=['accuracy'])\n",
    "\n",
    "model.fit(x_train, y_train, epochs=20, batch_size=128)\n",
    "score = model.evaluate(x_test, y_test, batch_size=128)\n",
    "score"
   ]
  },
  {
   "cell_type": "code",
   "execution_count": 4,
   "metadata": {},
   "outputs": [
    {
     "name": "stdout",
     "output_type": "stream",
     "text": [
      "Epoch 1/20\n",
      "1000/1000 [==============================] - 1s 754us/step - loss: 3.0047 - accuracy: 0.1130\n",
      "Epoch 2/20\n",
      "1000/1000 [==============================] - 0s 77us/step - loss: 3.0150 - accuracy: 0.1220\n",
      "Epoch 3/20\n",
      "1000/1000 [==============================] - 0s 55us/step - loss: 3.0262 - accuracy: 0.1260\n",
      "Epoch 4/20\n",
      "1000/1000 [==============================] - 0s 54us/step - loss: 3.0381 - accuracy: 0.1170\n",
      "Epoch 5/20\n",
      "1000/1000 [==============================] - 0s 54us/step - loss: 3.0487 - accuracy: 0.1190\n",
      "Epoch 6/20\n",
      "1000/1000 [==============================] - 0s 52us/step - loss: 3.0966 - accuracy: 0.1250\n",
      "Epoch 7/20\n",
      "1000/1000 [==============================] - 0s 52us/step - loss: 3.0845 - accuracy: 0.1160\n",
      "Epoch 8/20\n",
      "1000/1000 [==============================] - 0s 52us/step - loss: 3.0875 - accuracy: 0.1240\n",
      "Epoch 9/20\n",
      "1000/1000 [==============================] - 0s 51us/step - loss: 3.0961 - accuracy: 0.1100\n",
      "Epoch 10/20\n",
      "1000/1000 [==============================] - 0s 52us/step - loss: 3.1096 - accuracy: 0.1120\n",
      "Epoch 11/20\n",
      "1000/1000 [==============================] - 0s 58us/step - loss: 3.0812 - accuracy: 0.1380\n",
      "Epoch 12/20\n",
      "1000/1000 [==============================] - 0s 58us/step - loss: 3.0862 - accuracy: 0.1070\n",
      "Epoch 13/20\n",
      "1000/1000 [==============================] - 0s 68us/step - loss: 3.0843 - accuracy: 0.1220\n",
      "Epoch 14/20\n",
      "1000/1000 [==============================] - 0s 62us/step - loss: 3.1097 - accuracy: 0.1120\n",
      "Epoch 15/20\n",
      "1000/1000 [==============================] - 0s 65us/step - loss: 3.0863 - accuracy: 0.1120\n",
      "Epoch 16/20\n",
      "1000/1000 [==============================] - 0s 71us/step - loss: 3.0831 - accuracy: 0.1150\n",
      "Epoch 17/20\n",
      "1000/1000 [==============================] - 0s 62us/step - loss: 3.0869 - accuracy: 0.1250\n",
      "Epoch 18/20\n",
      "1000/1000 [==============================] - 0s 63us/step - loss: 3.0839 - accuracy: 0.1230\n",
      "Epoch 19/20\n",
      "1000/1000 [==============================] - 0s 63us/step - loss: 3.0804 - accuracy: 0.1310\n",
      "Epoch 20/20\n",
      "1000/1000 [==============================] - 0s 72us/step - loss: 3.0925 - accuracy: 0.1200\n",
      "100/100 [==============================] - 0s 3ms/step\n"
     ]
    },
    {
     "data": {
      "text/plain": [
       "[3.024740695953369, 0.09000000357627869]"
      ]
     },
     "execution_count": 4,
     "metadata": {},
     "output_type": "execute_result"
    }
   ],
   "source": [
    "# Classification with ordinal crossentropy loss\n",
    "model.compile(loss=OCC.loss,\n",
    "              optimizer=sgd,\n",
    "              metrics=['accuracy'])\n",
    "\n",
    "model.fit(x_train, y_train, epochs=20, batch_size=128)\n",
    "score = model.evaluate(x_test, y_test, batch_size=128)\n",
    "score"
   ]
  },
  {
   "cell_type": "code",
   "execution_count": 5,
   "metadata": {},
   "outputs": [
    {
     "name": "stdout",
     "output_type": "stream",
     "text": [
      "Epoch 1/20\n",
      "1000/1000 [==============================] - 1s 854us/step - loss: 15.2446 - accuracy: 0.0900 - mse: 15.2446\n",
      "Epoch 2/20\n",
      "1000/1000 [==============================] - 0s 45us/step - loss: 8.9296 - accuracy: 0.1100 - mse: 8.9296\n",
      "Epoch 3/20\n",
      "1000/1000 [==============================] - 0s 66us/step - loss: 8.3448 - accuracy: 0.1120 - mse: 8.3448\n",
      "Epoch 4/20\n",
      "1000/1000 [==============================] - 0s 59us/step - loss: 8.0190 - accuracy: 0.1170 - mse: 8.0190\n",
      "Epoch 5/20\n",
      "1000/1000 [==============================] - 0s 59us/step - loss: 7.9896 - accuracy: 0.0980 - mse: 7.9896\n",
      "Epoch 6/20\n",
      "1000/1000 [==============================] - 0s 59us/step - loss: 7.8816 - accuracy: 0.1100 - mse: 7.8816\n",
      "Epoch 7/20\n",
      "1000/1000 [==============================] - 0s 242us/step - loss: 7.8467 - accuracy: 0.1090 - mse: 7.8467\n",
      "Epoch 8/20\n",
      "1000/1000 [==============================] - 0s 45us/step - loss: 7.8214 - accuracy: 0.1160 - mse: 7.8214\n",
      "Epoch 9/20\n",
      "1000/1000 [==============================] - 0s 48us/step - loss: 7.7615 - accuracy: 0.1020 - mse: 7.7615\n",
      "Epoch 10/20\n",
      "1000/1000 [==============================] - 0s 48us/step - loss: 7.8058 - accuracy: 0.1030 - mse: 7.8058\n",
      "Epoch 11/20\n",
      "1000/1000 [==============================] - 0s 48us/step - loss: 7.6308 - accuracy: 0.1130 - mse: 7.6308\n",
      "Epoch 12/20\n",
      "1000/1000 [==============================] - 0s 50us/step - loss: 7.6938 - accuracy: 0.1110 - mse: 7.6938\n",
      "Epoch 13/20\n",
      "1000/1000 [==============================] - 0s 70us/step - loss: 7.6925 - accuracy: 0.1080 - mse: 7.6925\n",
      "Epoch 14/20\n",
      "1000/1000 [==============================] - 0s 48us/step - loss: 7.6953 - accuracy: 0.1140 - mse: 7.6953\n",
      "Epoch 15/20\n",
      "1000/1000 [==============================] - 0s 48us/step - loss: 7.5860 - accuracy: 0.1120 - mse: 7.5860\n",
      "Epoch 16/20\n",
      "1000/1000 [==============================] - 0s 46us/step - loss: 7.6790 - accuracy: 0.1090 - mse: 7.6790\n",
      "Epoch 17/20\n",
      "1000/1000 [==============================] - 0s 46us/step - loss: 7.7132 - accuracy: 0.0990 - mse: 7.7132\n",
      "Epoch 18/20\n",
      "1000/1000 [==============================] - 0s 45us/step - loss: 7.6390 - accuracy: 0.1160 - mse: 7.6390\n",
      "Epoch 19/20\n",
      "1000/1000 [==============================] - 0s 51us/step - loss: 7.6426 - accuracy: 0.1210 - mse: 7.6426\n",
      "Epoch 20/20\n",
      "1000/1000 [==============================] - 0s 47us/step - loss: 7.5799 - accuracy: 0.0910 - mse: 7.5799\n",
      "100/100 [==============================] - 0s 2ms/step\n"
     ]
    },
    {
     "data": {
      "text/plain": [
       "[8.508237838745117, 0.10000000149011612, 8.508237838745117]"
      ]
     },
     "execution_count": 5,
     "metadata": {},
     "output_type": "execute_result"
    }
   ],
   "source": [
    "# Integer encoding\n",
    "model_int = Sequential()\n",
    "model_int.add(Dense(64, activation='relu', input_dim=20))\n",
    "model_int.add(Dropout(0.5))\n",
    "model_int.add(Dense(64, activation='relu'))\n",
    "model_int.add(Dropout(0.5))\n",
    "model_int.add(Dense(1, activation='relu'))\n",
    "\n",
    "model_int.compile(\n",
    "    ## or try sparse_categorical_crossentropy for integer targets\n",
    "    loss='mean_squared_error',\n",
    "    optimizer=sgd,\n",
    "    metrics=['accuracy', 'mse'])\n",
    "\n",
    "model_int.fit(x_train, y_int_train, epochs=20, batch_size=128)\n",
    "score = model_int.evaluate(x_test, y_int_test, batch_size=128)\n",
    "score"
   ]
  },
  {
   "cell_type": "code",
   "execution_count": 7,
   "metadata": {},
   "outputs": [
    {
     "name": "stdout",
     "output_type": "stream",
     "text": [
      "Epoch 1/20\n",
      "1000/1000 [==============================] - 1s 737us/step - loss: 9.2361 - accuracy: 0.1110\n",
      "Epoch 2/20\n",
      "1000/1000 [==============================] - 0s 54us/step - loss: 8.2345 - accuracy: 0.0950\n",
      "Epoch 3/20\n",
      "1000/1000 [==============================] - 0s 52us/step - loss: 7.9862 - accuracy: 0.0950\n",
      "Epoch 4/20\n",
      "1000/1000 [==============================] - 0s 54us/step - loss: 8.0912 - accuracy: 0.0940\n",
      "Epoch 5/20\n",
      "1000/1000 [==============================] - 0s 53us/step - loss: 8.4529 - accuracy: 0.0940\n",
      "Epoch 6/20\n",
      "1000/1000 [==============================] - 0s 53us/step - loss: 8.9290 - accuracy: 0.0940\n",
      "Epoch 7/20\n",
      "1000/1000 [==============================] - 0s 51us/step - loss: 9.1862 - accuracy: 0.0940\n",
      "Epoch 8/20\n",
      "1000/1000 [==============================] - 0s 53us/step - loss: 10.1030 - accuracy: 0.0940\n",
      "Epoch 9/20\n",
      "1000/1000 [==============================] - 0s 54us/step - loss: 10.9031 - accuracy: 0.0940\n",
      "Epoch 10/20\n",
      "1000/1000 [==============================] - 0s 53us/step - loss: 11.4459 - accuracy: 0.0940\n",
      "Epoch 11/20\n",
      "1000/1000 [==============================] - 0s 52us/step - loss: 11.2330 - accuracy: 0.0940\n",
      "Epoch 12/20\n",
      "1000/1000 [==============================] - 0s 56us/step - loss: 11.3670 - accuracy: 0.0940\n",
      "Epoch 13/20\n",
      "1000/1000 [==============================] - 0s 61us/step - loss: 11.4301 - accuracy: 0.0940\n",
      "Epoch 14/20\n",
      "1000/1000 [==============================] - 0s 67us/step - loss: 11.2063 - accuracy: 0.0940\n",
      "Epoch 15/20\n",
      "1000/1000 [==============================] - 0s 59us/step - loss: 11.1692 - accuracy: 0.0940\n",
      "Epoch 16/20\n",
      "1000/1000 [==============================] - 0s 64us/step - loss: 10.6296 - accuracy: 0.0940\n",
      "Epoch 17/20\n",
      "1000/1000 [==============================] - 0s 74us/step - loss: 10.7287 - accuracy: 0.0940\n",
      "Epoch 18/20\n",
      "1000/1000 [==============================] - 0s 211us/step - loss: 10.8169 - accuracy: 0.0940\n",
      "Epoch 19/20\n",
      "1000/1000 [==============================] - 0s 94us/step - loss: 11.0505 - accuracy: 0.0940\n",
      "Epoch 20/20\n",
      "1000/1000 [==============================] - 0s 52us/step - loss: 10.5616 - accuracy: 0.0940\n",
      "100/100 [==============================] - 0s 2ms/step\n"
     ]
    },
    {
     "data": {
      "text/plain": [
       "[10.895971298217773, 0.12999999523162842]"
      ]
     },
     "execution_count": 7,
     "metadata": {},
     "output_type": "execute_result"
    }
   ],
   "source": [
    "# let's try it again but with sparse cross-entropy loss\n",
    "# Integer encoding\n",
    "model_sparse = Sequential()\n",
    "model_sparse.add(Dense(64, activation='relu', input_dim=20))\n",
    "model_sparse.add(Dropout(0.5))\n",
    "model_sparse.add(Dense(64, activation='relu'))\n",
    "model_sparse.add(Dropout(0.5))\n",
    "model_sparse.add(Dense(10, activation='relu'))\n",
    "\n",
    "model_sparse.compile(\n",
    "    loss='sparse_categorical_crossentropy',\n",
    "    optimizer=sgd,\n",
    "    metrics=['accuracy'])\n",
    "\n",
    "model_sparse.fit(x_train, y_int_train, epochs=20, batch_size=128)\n",
    "score = model_sparse.evaluate(x_test, y_int_test, batch_size=128)\n",
    "score"
   ]
  },
  {
   "cell_type": "markdown",
   "metadata": {},
   "source": [
    "Remarks:\n",
    "\n",
    "- Accuracy is pretty low across all three, but (sparse) integer encoding seems to work well\n",
    "- Could be that architecture (ie, layers) and optimizer need tuning\n",
    "- Oh yeah also because features are uncorrelated with response (duh!)\n",
    "\n",
    "[TODO] Last three options..."
   ]
  },
  {
   "cell_type": "markdown",
   "metadata": {},
   "source": [
    "## Applying it to our data\n",
    "\n",
    "Let's apply this to a subset of our data"
   ]
  },
  {
   "cell_type": "code",
   "execution_count": 11,
   "metadata": {
    "collapsed": true
   },
   "outputs": [],
   "source": [
    "parcels = pd.read_csv('../data/toy-parcels.csv')\n",
    "parcels.shape\n",
    "\n",
    "X = parcels.drop(['recovery'], axis = 1)\n",
    "X = np.array(X)\n",
    "Y = parcels['recovery']"
   ]
  },
  {
   "cell_type": "code",
   "execution_count": 15,
   "metadata": {},
   "outputs": [],
   "source": [
    "# create train / test split\n",
    "from sklearn import model_selection\n",
    "train_x, test_x, train_y, test_y = model_selection.train_test_split(X,Y,test_size = 0.1, random_state = 0)\n",
    "\n",
    "# encode response as categorical\n",
    "train_y_cat = keras.utils.to_categorical(train_y, num_classes=5)\n",
    "test_y_cat = keras.utils.to_categorical(test_y, num_classes=5)"
   ]
  },
  {
   "cell_type": "code",
   "execution_count": 17,
   "metadata": {},
   "outputs": [
    {
     "name": "stdout",
     "output_type": "stream",
     "text": [
      "Epoch 1/20\n",
      "450/450 [==============================] - 1s 2ms/step - loss: 1228989270.5695 - accuracy: 0.2844\n",
      "Epoch 2/20\n",
      "450/450 [==============================] - 0s 51us/step - loss: 1.5943 - accuracy: 0.4711\n",
      "Epoch 3/20\n",
      "450/450 [==============================] - 0s 55us/step - loss: 1.5669 - accuracy: 0.4711\n",
      "Epoch 4/20\n",
      "450/450 [==============================] - 0s 57us/step - loss: 1.5338 - accuracy: 0.4711\n",
      "Epoch 5/20\n",
      "450/450 [==============================] - 0s 54us/step - loss: 1.4980 - accuracy: 0.4711\n",
      "Epoch 6/20\n",
      "450/450 [==============================] - 0s 61us/step - loss: 1.4638 - accuracy: 0.4711\n",
      "Epoch 7/20\n",
      "450/450 [==============================] - 0s 58us/step - loss: 1.4323 - accuracy: 0.4711\n",
      "Epoch 8/20\n",
      "450/450 [==============================] - 0s 58us/step - loss: 1.4038 - accuracy: 0.4711\n",
      "Epoch 9/20\n",
      "450/450 [==============================] - 0s 59us/step - loss: 1.3807 - accuracy: 0.4711\n",
      "Epoch 10/20\n",
      "450/450 [==============================] - 0s 56us/step - loss: 1.3603 - accuracy: 0.4711\n",
      "Epoch 11/20\n",
      "450/450 [==============================] - 0s 63us/step - loss: 1.3438 - accuracy: 0.4711\n",
      "Epoch 12/20\n",
      "450/450 [==============================] - 0s 58us/step - loss: 1.3282 - accuracy: 0.4711\n",
      "Epoch 13/20\n",
      "450/450 [==============================] - 0s 64us/step - loss: 1.3172 - accuracy: 0.4711\n",
      "Epoch 14/20\n",
      "450/450 [==============================] - 0s 65us/step - loss: 1.3070 - accuracy: 0.4711\n",
      "Epoch 15/20\n",
      "450/450 [==============================] - 0s 60us/step - loss: 1.2986 - accuracy: 0.4711\n",
      "Epoch 16/20\n",
      "450/450 [==============================] - 0s 73us/step - loss: 1.2920 - accuracy: 0.4711\n",
      "Epoch 17/20\n",
      "450/450 [==============================] - 0s 62us/step - loss: 1.2859 - accuracy: 0.4711\n",
      "Epoch 18/20\n",
      "450/450 [==============================] - 0s 63us/step - loss: 1.2806 - accuracy: 0.4711\n",
      "Epoch 19/20\n",
      "450/450 [==============================] - 0s 69us/step - loss: 1.2763 - accuracy: 0.4711\n",
      "Epoch 20/20\n",
      "450/450 [==============================] - 0s 68us/step - loss: 1.2724 - accuracy: 0.4711\n",
      "50/50 [==============================] - 0s 4ms/step\n"
     ]
    },
    {
     "data": {
      "text/plain": [
       "[1.2746046781539917, 0.47999998927116394]"
      ]
     },
     "execution_count": 17,
     "metadata": {},
     "output_type": "execute_result"
    }
   ],
   "source": [
    "# cross-entropy loss\n",
    "model = Sequential()\n",
    "# Dense(64) is a fully-connected layer with 64 hidden units.\n",
    "# in the first layer, you must specify the expected input data shape:\n",
    "# here, 20-dimensional vectors.\n",
    "model.add(Dense(64, activation='relu', input_dim=5))\n",
    "model.add(Dropout(0.5))\n",
    "model.add(Dense(64, activation='relu'))\n",
    "model.add(Dropout(0.5))\n",
    "model.add(Dense(5, activation='softmax'))\n",
    "model.compile(loss='categorical_crossentropy',\n",
    "              optimizer=sgd,\n",
    "              metrics=['accuracy'])\n",
    "\n",
    "model.fit(train_x, train_y_cat, epochs=20, batch_size=128)\n",
    "score = model.evaluate(test_x, test_y_cat, batch_size=128)\n",
    "score"
   ]
  },
  {
   "cell_type": "code",
   "execution_count": 18,
   "metadata": {},
   "outputs": [
    {
     "name": "stdout",
     "output_type": "stream",
     "text": [
      "Epoch 1/20\n",
      "450/450 [==============================] - 1s 2ms/step - loss: 1.7132 - accuracy: 0.4711\n",
      "Epoch 2/20\n",
      "450/450 [==============================] - 0s 380us/step - loss: 1.7052 - accuracy: 0.4711\n",
      "Epoch 3/20\n",
      "450/450 [==============================] - 0s 124us/step - loss: 1.6945 - accuracy: 0.4711\n",
      "Epoch 4/20\n",
      "450/450 [==============================] - 0s 62us/step - loss: 1.6824 - accuracy: 0.4711\n",
      "Epoch 5/20\n",
      "450/450 [==============================] - 0s 77us/step - loss: 1.6725 - accuracy: 0.4711\n",
      "Epoch 6/20\n",
      "450/450 [==============================] - 0s 75us/step - loss: 1.6636 - accuracy: 0.4711\n",
      "Epoch 7/20\n",
      "450/450 [==============================] - 0s 74us/step - loss: 1.6560 - accuracy: 0.4711\n",
      "Epoch 8/20\n",
      "450/450 [==============================] - 0s 76us/step - loss: 1.7905 - accuracy: 0.4044\n",
      "Epoch 9/20\n",
      "450/450 [==============================] - 0s 74us/step - loss: 1.8331 - accuracy: 0.3800\n",
      "Epoch 10/20\n",
      "450/450 [==============================] - 0s 81us/step - loss: 1.6467 - accuracy: 0.4711\n",
      "Epoch 11/20\n",
      "450/450 [==============================] - 0s 79us/step - loss: 1.6447 - accuracy: 0.4711\n",
      "Epoch 12/20\n",
      "450/450 [==============================] - 0s 77us/step - loss: 1.6426 - accuracy: 0.4711\n",
      "Epoch 13/20\n",
      "450/450 [==============================] - 0s 79us/step - loss: 1.8034 - accuracy: 0.4111\n",
      "Epoch 14/20\n",
      "450/450 [==============================] - 0s 81us/step - loss: 1.6398 - accuracy: 0.4711\n",
      "Epoch 15/20\n",
      "450/450 [==============================] - 0s 87us/step - loss: 1.6384 - accuracy: 0.4711\n",
      "Epoch 16/20\n",
      "450/450 [==============================] - 0s 81us/step - loss: 1.7316 - accuracy: 0.4244\n",
      "Epoch 17/20\n",
      "450/450 [==============================] - 0s 75us/step - loss: 1.7320 - accuracy: 0.4089\n",
      "Epoch 18/20\n",
      "450/450 [==============================] - 0s 75us/step - loss: 1.6354 - accuracy: 0.4711\n",
      "Epoch 19/20\n",
      "450/450 [==============================] - 0s 80us/step - loss: 1.6343 - accuracy: 0.4711\n",
      "Epoch 20/20\n",
      "450/450 [==============================] - 0s 85us/step - loss: 1.7365 - accuracy: 0.4244\n",
      "50/50 [==============================] - 0s 6ms/step\n"
     ]
    },
    {
     "data": {
      "text/plain": [
       "[1.9748244285583496, 0.30000001192092896]"
      ]
     },
     "execution_count": 18,
     "metadata": {},
     "output_type": "execute_result"
    }
   ],
   "source": [
    "# ordinal crossentropy loss\n",
    "model.compile(loss=OCC.loss,\n",
    "              optimizer=sgd,\n",
    "              metrics=['accuracy'])\n",
    "\n",
    "model.fit(train_x, train_y_cat, epochs=20, batch_size=128)\n",
    "score = model.evaluate(test_x, test_y_cat, batch_size=128)\n",
    "score"
   ]
  },
  {
   "cell_type": "code",
   "execution_count": 20,
   "metadata": {},
   "outputs": [
    {
     "name": "stdout",
     "output_type": "stream",
     "text": [
      "Epoch 1/20\n",
      "450/450 [==============================] - 1s 1ms/step - loss: 41376012.1756 - accuracy: 0.1044 - mse: 41376008.0000\n",
      "Epoch 2/20\n",
      "450/450 [==============================] - 0s 51us/step - loss: 5.9244 - accuracy: 0.1444 - mse: 5.9244\n",
      "Epoch 3/20\n",
      "450/450 [==============================] - 0s 53us/step - loss: 5.9244 - accuracy: 0.1444 - mse: 5.9244\n",
      "Epoch 4/20\n",
      "450/450 [==============================] - 0s 58us/step - loss: 5.9244 - accuracy: 0.1444 - mse: 5.9244\n",
      "Epoch 5/20\n",
      "450/450 [==============================] - 0s 55us/step - loss: 5.9244 - accuracy: 0.1444 - mse: 5.9244\n",
      "Epoch 6/20\n",
      "450/450 [==============================] - 0s 55us/step - loss: 5.9244 - accuracy: 0.1444 - mse: 5.9244\n",
      "Epoch 7/20\n",
      "450/450 [==============================] - 0s 71us/step - loss: 5.9244 - accuracy: 0.1444 - mse: 5.9244\n",
      "Epoch 8/20\n",
      "450/450 [==============================] - 0s 57us/step - loss: 5.9244 - accuracy: 0.1444 - mse: 5.9244\n",
      "Epoch 9/20\n",
      "450/450 [==============================] - 0s 61us/step - loss: 5.9244 - accuracy: 0.1444 - mse: 5.9244\n",
      "Epoch 10/20\n",
      "450/450 [==============================] - 0s 63us/step - loss: 5.9244 - accuracy: 0.1444 - mse: 5.9244\n",
      "Epoch 11/20\n",
      "450/450 [==============================] - 0s 79us/step - loss: 5.9244 - accuracy: 0.1444 - mse: 5.9244\n",
      "Epoch 12/20\n",
      "450/450 [==============================] - 0s 75us/step - loss: 5.9244 - accuracy: 0.1444 - mse: 5.9244\n",
      "Epoch 13/20\n",
      "450/450 [==============================] - 0s 84us/step - loss: 5.9244 - accuracy: 0.1444 - mse: 5.9244\n",
      "Epoch 14/20\n",
      "450/450 [==============================] - 0s 77us/step - loss: 5.9244 - accuracy: 0.1444 - mse: 5.9244\n",
      "Epoch 15/20\n",
      "450/450 [==============================] - 0s 81us/step - loss: 5.9244 - accuracy: 0.1444 - mse: 5.9244\n",
      "Epoch 16/20\n",
      "450/450 [==============================] - 0s 90us/step - loss: 5.9244 - accuracy: 0.1444 - mse: 5.9244\n",
      "Epoch 17/20\n",
      "450/450 [==============================] - 0s 91us/step - loss: 5.9244 - accuracy: 0.1444 - mse: 5.9244\n",
      "Epoch 18/20\n",
      "450/450 [==============================] - 0s 79us/step - loss: 5.9244 - accuracy: 0.1444 - mse: 5.9244\n",
      "Epoch 19/20\n",
      "450/450 [==============================] - 0s 79us/step - loss: 5.9244 - accuracy: 0.1444 - mse: 5.9244\n",
      "Epoch 20/20\n",
      "450/450 [==============================] - 0s 75us/step - loss: 5.9244 - accuracy: 0.1444 - mse: 5.9244\n",
      "50/50 [==============================] - 0s 5ms/step\n"
     ]
    },
    {
     "data": {
      "text/plain": [
       "[5.900000095367432, 0.14000000059604645, 5.900000095367432]"
      ]
     },
     "execution_count": 20,
     "metadata": {},
     "output_type": "execute_result"
    }
   ],
   "source": [
    "# integer encoding\n",
    "model_int = Sequential()\n",
    "model_int.add(Dense(64, activation='relu', input_dim=5))\n",
    "model_int.add(Dropout(0.5))\n",
    "model_int.add(Dense(64, activation='relu'))\n",
    "model_int.add(Dropout(0.5))\n",
    "model_int.add(Dense(1, activation='relu'))\n",
    "\n",
    "model_int.compile(\n",
    "    ## or try sparse_categorical_crossentropy for integer targets\n",
    "    loss='mean_squared_error',\n",
    "    optimizer=sgd,\n",
    "    metrics=['accuracy', 'mse'])\n",
    "\n",
    "model_int.fit(train_x, train_y, epochs=20, batch_size=128)\n",
    "score = model_int.evaluate(test_x, test_y, batch_size=128)\n",
    "score"
   ]
  },
  {
   "cell_type": "code",
   "execution_count": 21,
   "metadata": {},
   "outputs": [
    {
     "name": "stdout",
     "output_type": "stream",
     "text": [
      "Epoch 1/20\n",
      "450/450 [==============================] - 1s 2ms/step - loss: 5.2009 - accuracy: 0.3733\n",
      "Epoch 2/20\n",
      "450/450 [==============================] - 0s 58us/step - loss: 5.4662 - accuracy: 0.4000\n",
      "Epoch 3/20\n",
      "450/450 [==============================] - 0s 64us/step - loss: 5.9072 - accuracy: 0.3889\n",
      "Epoch 4/20\n",
      "450/450 [==============================] - 0s 72us/step - loss: 5.7011 - accuracy: 0.3622\n",
      "Epoch 5/20\n",
      "450/450 [==============================] - 0s 75us/step - loss: 5.5502 - accuracy: 0.3822\n",
      "Epoch 6/20\n",
      "450/450 [==============================] - 0s 75us/step - loss: 5.2948 - accuracy: 0.3800\n",
      "Epoch 7/20\n",
      "450/450 [==============================] - 0s 74us/step - loss: 5.5612 - accuracy: 0.3556\n",
      "Epoch 8/20\n",
      "450/450 [==============================] - 0s 73us/step - loss: 5.7636 - accuracy: 0.3844\n",
      "Epoch 9/20\n",
      "450/450 [==============================] - 0s 73us/step - loss: 7.0903 - accuracy: 0.3644\n",
      "Epoch 10/20\n",
      "450/450 [==============================] - 0s 70us/step - loss: 8.7569 - accuracy: 0.3467\n",
      "Epoch 11/20\n",
      "450/450 [==============================] - 0s 77us/step - loss: 9.3343 - accuracy: 0.3311\n",
      "Epoch 12/20\n",
      "450/450 [==============================] - 0s 70us/step - loss: 9.2302 - accuracy: 0.3556\n",
      "Epoch 13/20\n",
      "450/450 [==============================] - 0s 70us/step - loss: 9.1847 - accuracy: 0.3444\n",
      "Epoch 14/20\n",
      "450/450 [==============================] - 0s 69us/step - loss: 8.9071 - accuracy: 0.3667\n",
      "Epoch 15/20\n",
      "450/450 [==============================] - 0s 72us/step - loss: 9.4238 - accuracy: 0.3533\n",
      "Epoch 16/20\n",
      "450/450 [==============================] - 0s 74us/step - loss: 8.8784 - accuracy: 0.3356\n",
      "Epoch 17/20\n",
      "450/450 [==============================] - 0s 79us/step - loss: 9.6313 - accuracy: 0.3022\n",
      "Epoch 18/20\n",
      "450/450 [==============================] - 0s 78us/step - loss: 9.0511 - accuracy: 0.3600\n",
      "Epoch 19/20\n",
      "450/450 [==============================] - 0s 73us/step - loss: 9.4266 - accuracy: 0.3378\n",
      "Epoch 20/20\n",
      "450/450 [==============================] - 0s 74us/step - loss: 9.9295 - accuracy: 0.3267\n",
      "50/50 [==============================] - 0s 6ms/step\n"
     ]
    },
    {
     "data": {
      "text/plain": [
       "[8.381409645080566, 0.47999998927116394]"
      ]
     },
     "execution_count": 21,
     "metadata": {},
     "output_type": "execute_result"
    }
   ],
   "source": [
    "# sparse encoding\n",
    "model_sparse = Sequential()\n",
    "model_sparse.add(Dense(64, activation='relu', input_dim=5))\n",
    "model_sparse.add(Dropout(0.5))\n",
    "model_sparse.add(Dense(64, activation='relu'))\n",
    "model_sparse.add(Dropout(0.5))\n",
    "model_sparse.add(Dense(5, activation='relu'))\n",
    "\n",
    "model_sparse.compile(\n",
    "    loss='sparse_categorical_crossentropy',\n",
    "    optimizer=sgd,\n",
    "    metrics=['accuracy'])\n",
    "\n",
    "model_sparse.fit(train_x, train_y, epochs=20, batch_size=128)\n",
    "score = model_sparse.evaluate(test_x, test_y, batch_size=128)\n",
    "score"
   ]
  },
  {
   "cell_type": "markdown",
   "metadata": {},
   "source": [
    "## Takeaways\n",
    "\n",
    "- Sparse categorical cross-entropy performs as well as categorical cross-entropy\n",
    "- Ordinal cross-entropy performs worse than categorical cross-entropy!\n",
    "- Integer encoding performs the worst"
   ]
  }
 ],
 "metadata": {
  "kernelspec": {
   "display_name": "tf",
   "language": "python",
   "name": "tf"
  },
  "language_info": {
   "codemirror_mode": {
    "name": "ipython",
    "version": 3
   },
   "file_extension": ".py",
   "mimetype": "text/x-python",
   "name": "python",
   "nbconvert_exporter": "python",
   "pygments_lexer": "ipython3",
   "version": "3.7.6"
  }
 },
 "nbformat": 4,
 "nbformat_minor": 2
}
